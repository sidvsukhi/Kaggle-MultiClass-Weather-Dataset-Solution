{
 "cells": [
  {
   "cell_type": "code",
   "execution_count": 2,
   "metadata": {},
   "outputs": [
    {
     "name": "stdout",
     "output_type": "stream",
     "text": [
      "Total number of images:  1122\n"
     ]
    }
   ],
   "source": [
    "import os\n",
    "import glob\n",
    "\n",
    "dataDir = '/home/siddhant/Pictures/Multi-class Weather Dataset'\n",
    "\n",
    "totalImageCount = 0\n",
    "\n",
    "for _ in glob.glob(os.path.join(dataDir, 'dataset/**/*.jpg'), recursive=True):\n",
    "    totalImageCount += 1\n",
    "\n",
    "print('Total number of images: ', totalImageCount)"
   ]
  },
  {
   "cell_type": "code",
   "execution_count": 3,
   "metadata": {},
   "outputs": [],
   "source": [
    "#Creation of separate folders\n",
    "datasetDir = os.path.join(dataDir,'dataset')\n",
    "#os.mkdir(datasetDir)\n",
    "\n",
    "trainDir = os.path.join(datasetDir, 'training')\n",
    "testDir = os.path.join(datasetDir, 'testing')\n",
    "\n",
    "#os.mkdir(trainDir)\n",
    "#os.mkdir(testDir)\n",
    "\n",
    "cloudyTrainDir = os.path.join(trainDir, 'cloudy')\n",
    "rainTrainDir = os.path.join(trainDir, 'rain')\n",
    "shineTrainDir = os.path.join(trainDir, 'shine')\n",
    "sunriseTrainDir = os.path.join(trainDir, 'sunrise')\n",
    "\n",
    "#os.mkdir(cloudyTrainDir)\n",
    "#os.mkdir(rainTrainDir)\n",
    "#os.mkdir(shineTrainDir)\n",
    "#os.mkdir(sunriseTrainDir)\n",
    "\n",
    "cloudyTestDir = os.path.join(testDir, 'cloudy')\n",
    "rainTestDir = os.path.join(testDir, 'rain')\n",
    "shineTestDir = os.path.join(testDir, 'shine')\n",
    "sunriseTestDir = os.path.join(testDir, 'sunrise')\n",
    "\n",
    "#os.mkdir(cloudyTestDir)\n",
    "#os.mkdir(rainTestDir)\n",
    "#os.mkdir(shineTestDir)\n",
    "#os.mkdir(sunriseTestDir)"
   ]
  },
  {
   "cell_type": "code",
   "execution_count": 24,
   "metadata": {},
   "outputs": [],
   "source": [
    "import shutil\n",
    "import random\n",
    "\n",
    "#Split data from from data into the folders created\n",
    "def splitData(sourceDir, destTrainingDir, destTestingDir, splitSize):\n",
    "    imageList = []\n",
    "    for fileName in os.listdir(sourceDir):\n",
    "        filePath = os.path.join(sourceDir, fileName)\n",
    "        if os.path.getsize(filePath) > 0:\n",
    "            imageList.append(fileName)\n",
    "        else:\n",
    "            print('Discarding image: {} since size 0:'.format(filePath))\n",
    "    \n",
    "    trainingSize = int(len(imageList)*splitSize)\n",
    "    testingSize = len(imageList) - trainingSize\n",
    "    shuffledSet = random.sample(imageList, len(imageList))\n",
    "    trainingSet = shuffledSet[:trainingSize]\n",
    "    testingSet = shuffledSet[trainingSize:]\n",
    "    \n",
    "    for imageName in trainingSet:\n",
    "        shutil.copyfile(os.path.join(sourceDir, imageName), os.path.join(destTrainingDir, imageName))\n",
    "        \n",
    "    for imageName in testingSet:\n",
    "        shutil.copyfile(os.path.join(sourceDir, imageName), os.path.join(destTestingDir, imageName))"
   ]
  },
  {
   "cell_type": "code",
   "execution_count": 25,
   "metadata": {},
   "outputs": [],
   "source": [
    "splitSize = 0.8\n",
    "\n",
    "splitData(os.path.join(dataDir, 'Cloudy'), cloudyTrainDir, cloudyTestDir, splitSize)\n",
    "splitData(os.path.join(dataDir, 'Rain'), rainTrainDir, rainTestDir, splitSize)\n",
    "splitData(os.path.join(dataDir, 'Shine'), shineTrainDir, shineTestDir, splitSize)\n",
    "splitData(os.path.join(dataDir, 'Sunrise'), sunriseTrainDir, sunriseTestDir, splitSize)"
   ]
  },
  {
   "cell_type": "code",
   "execution_count": 29,
   "metadata": {},
   "outputs": [
    {
     "data": {
      "image/png": "[encoded data removed]",
      "text/plain": [
       "<Figure size 432x288 with 1 Axes>"
      ]
     },
     "metadata": {
      "needs_background": "light"
     },
     "output_type": "display_data"
    }
   ],
   "source": [
    "#Visualize number of training and testing images\n",
    "import matplotlib.pyplot as plt\n",
    "\n",
    "fig = plt.figure()\n",
    "ax = fig.add_axes([0,0,1,1])\n",
    "xLabel = ['Cloudy', 'Rain', 'Shine', 'Sunrise']\n",
    "trainingImagesCount = [len(os.listdir(cloudyTrainDir)),len(os.listdir(rainTrainDir)),len(os.listdir(shineTrainDir)), len(os.listdir(sunriseTrainDir))]\n",
    "ax.bar(xLabel,trainingImagesCount)\n",
    "plt.xlabel('Training Images')\n",
    "plt.show()"
   ]
  },
  {
   "cell_type": "code",
   "execution_count": 30,
   "metadata": {},
   "outputs": [
    {
     "data": {
      "image/png": "[encoded data removed]",
      "text/plain": [
       "<Figure size 432x288 with 1 Axes>"
      ]
     },
     "metadata": {
      "needs_background": "light"
     },
     "output_type": "display_data"
    }
   ],
   "source": [
    "fig = plt.figure()\n",
    "ax = fig.add_axes([0,0,1,1])\n",
    "xLabel = ['Cloudy', 'Rain', 'Shine', 'Sunrise']\n",
    "testingImagesCount = [len(os.listdir(cloudyTestDir)),len(os.listdir(rainTestDir)),len(os.listdir(shineTestDir)), len(os.listdir(sunriseTestDir))]\n",
    "ax.bar(xLabel,testingImagesCount)\n",
    "plt.xlabel('Testing Images')\n",
    "plt.show()"
   ]
  },
  {
   "cell_type": "code",
   "execution_count": 4,
   "metadata": {},
   "outputs": [],
   "source": [
    "from tensorflow.keras.optimizers import Adam\n",
    "from tensorflow.keras.preprocessing.image import ImageDataGenerator\n",
    "from tensorflow.keras.layers import Conv2D, MaxPooling2D, Flatten, Dense, Dropout\n",
    "from tensorflow.keras.models import Sequential\n",
    "from tensorflow.keras.callbacks import EarlyStopping, ModelCheckpoint"
   ]
  },
  {
   "cell_type": "code",
   "execution_count": 5,
   "metadata": {},
   "outputs": [],
   "source": [
    "#Generalizing image width and height\n",
    "imageWidth = 256\n",
    "imageHeight = 256\n",
    "batchSize=16"
   ]
  },
  {
   "cell_type": "code",
   "execution_count": 6,
   "metadata": {},
   "outputs": [
    {
     "name": "stdout",
     "output_type": "stream",
     "text": [
      "Found 899 images belonging to 4 classes.\n"
     ]
    }
   ],
   "source": [
    "#We use ImageDataGenerator for Data Augumentation purposes.\n",
    "#To generalize our model and prevent our model from overfitting, we use data augmentation techniques.\n",
    "\n",
    "trainDataGen = ImageDataGenerator(rescale=1/255.0,\n",
    "                                 rotation_range=60,\n",
    "                                 zoom_range=0.4,\n",
    "                                 horizontal_flip=True)\n",
    "\n",
    "trainGenerator = trainDataGen.flow_from_directory(trainDir,\n",
    "                                batch_size=batchSize,\n",
    "                                class_mode='categorical',\n",
    "                                target_size=(imageHeight, imageWidth))"
   ]
  },
  {
   "cell_type": "code",
   "execution_count": 7,
   "metadata": {},
   "outputs": [
    {
     "name": "stdout",
     "output_type": "stream",
     "text": [
      "Found 226 images belonging to 4 classes.\n"
     ]
    }
   ],
   "source": [
    "testDataGen = ImageDataGenerator(rescale=1/255.0)\n",
    "\n",
    "testGenerator = testDataGen.flow_from_directory(testDir,\n",
    "                                batch_size=batchSize,\n",
    "                                class_mode='categorical',\n",
    "                                target_size=(imageHeight, imageWidth),\n",
    "                                shuffle=True)"
   ]
  },
  {
   "cell_type": "code",
   "execution_count": 8,
   "metadata": {},
   "outputs": [],
   "source": [
    "#monitor- Performance measured using val_loss\n",
    "#mode- default-auto (minimize loss and maximize accuracy)\n",
    "#verbose is set to true to know for which epoch the training is stopped\n",
    "#patience- (interesting parameter) Sometimes it may happen that there is no signof improvement\n",
    "#i.e., plateau or it may worsen before getting much better\n",
    "callbacks = EarlyStopping(monitor='val_loss', patience=5, verbose=1, mode='auto')\n",
    "\n",
    "#autosave best model\n",
    "bestModelFile = os.path.join(dataDir, 'CNN_Weather_weights.h5')\n",
    "\n",
    "bestModel = ModelCheckpoint(bestModelFile, monitor='val_acc', verbose=1, save_best_only=True)"
   ]
  },
  {
   "cell_type": "code",
   "execution_count": 10,
   "metadata": {},
   "outputs": [
    {
     "name": "stdout",
     "output_type": "stream",
     "text": [
      "Model: \"sequential_1\"\n",
      "_________________________________________________________________\n",
      "Layer (type)                 Output Shape              Param #   \n",
      "=================================================================\n",
      "conv2d_9 (Conv2D)            (None, 254, 254, 16)      448       \n",
      "_________________________________________________________________\n",
      "max_pooling2d_5 (MaxPooling2 (None, 127, 127, 16)      0         \n",
      "_________________________________________________________________\n",
      "conv2d_10 (Conv2D)           (None, 125, 125, 32)      4640      \n",
      "_________________________________________________________________\n",
      "max_pooling2d_6 (MaxPooling2 (None, 62, 62, 32)        0         \n",
      "_________________________________________________________________\n",
      "conv2d_11 (Conv2D)           (None, 60, 60, 64)        18496     \n",
      "_________________________________________________________________\n",
      "conv2d_12 (Conv2D)           (None, 58, 58, 64)        36928     \n",
      "_________________________________________________________________\n",
      "max_pooling2d_7 (MaxPooling2 (None, 29, 29, 64)        0         \n",
      "_________________________________________________________________\n",
      "conv2d_13 (Conv2D)           (None, 27, 27, 128)       73856     \n",
      "_________________________________________________________________\n",
      "conv2d_14 (Conv2D)           (None, 25, 25, 128)       147584    \n",
      "_________________________________________________________________\n",
      "max_pooling2d_8 (MaxPooling2 (None, 12, 12, 128)       0         \n",
      "_________________________________________________________________\n",
      "conv2d_15 (Conv2D)           (None, 10, 10, 256)       295168    \n",
      "_________________________________________________________________\n",
      "conv2d_16 (Conv2D)           (None, 8, 8, 256)         590080    \n",
      "_________________________________________________________________\n",
      "conv2d_17 (Conv2D)           (None, 6, 6, 256)         590080    \n",
      "_________________________________________________________________\n",
      "max_pooling2d_9 (MaxPooling2 (None, 3, 3, 256)         0         \n",
      "_________________________________________________________________\n",
      "flatten_1 (Flatten)          (None, 2304)              0         \n",
      "_________________________________________________________________\n",
      "dense_3 (Dense)              (None, 512)               1180160   \n",
      "_________________________________________________________________\n",
      "dense_4 (Dense)              (None, 512)               262656    \n",
      "_________________________________________________________________\n",
      "dense_5 (Dense)              (None, 4)                 2052      \n",
      "=================================================================\n",
      "Total params: 3,202,148\n",
      "Trainable params: 3,202,148\n",
      "Non-trainable params: 0\n",
      "_________________________________________________________________\n"
     ]
    }
   ],
   "source": [
    "model = Sequential([\n",
    "    Conv2D(16, (3, 3), activation='relu', input_shape=(imageHeight, imageWidth, 3)), MaxPooling2D(2,2),\n",
    "    Conv2D(32, (3, 3), activation='relu'), MaxPooling2D(2, 2),\n",
    "    Conv2D(64, (3, 3), activation='relu'),\n",
    "    Conv2D(64, (3, 3), activation='relu'),\n",
    "    MaxPooling2D(2, 2),\n",
    "    Conv2D(128, (3, 3), activation='relu'),\n",
    "    Conv2D(128, (3, 3), activation='relu'),\n",
    "    MaxPooling2D(2, 2),\n",
    "    Conv2D(256, (3, 3), activation='relu'),\n",
    "    Conv2D(256, (3, 3), activation='relu'),\n",
    "    Conv2D(256, (3, 3), activation='relu'),\n",
    "    MaxPooling2D(2, 2),\n",
    "    #Feature (Edges, Color, Shape) learning till this part\n",
    "    Flatten(),\n",
    "    Dense(512, activation='relu'),\n",
    "    Dense(512, activation='relu'),\n",
    "    Dense(4, activation='softmax')\n",
    "    #Softmax for multiclass classification to get belongingness to every class\n",
    "])\n",
    "\n",
    "model.summary()"
   ]
  },
  {
   "cell_type": "code",
   "execution_count": 12,
   "metadata": {},
   "outputs": [],
   "source": [
    "model.compile(optimizer='Adam',\n",
    "             loss='categorical_crossentropy',\n",
    "             metrics=['accuracy'])"
   ]
  },
  {
   "cell_type": "code",
   "execution_count": 14,
   "metadata": {},
   "outputs": [
    {
     "name": "stdout",
     "output_type": "stream",
     "text": [
      "Epoch 1/30\n",
      "57/57 [==============================] - ETA: 0s - loss: 1.1767 - accuracy: 0.3971WARNING:tensorflow:Can save best model only with val_acc available, skipping.\n",
      "57/57 [==============================] - 75s 1s/step - loss: 1.1767 - accuracy: 0.3971 - val_loss: 0.8812 - val_accuracy: 0.5531\n",
      "Epoch 2/30\n",
      "57/57 [==============================] - ETA: 0s - loss: 1.0850 - accuracy: 0.5083WARNING:tensorflow:Can save best model only with val_acc available, skipping.\n",
      "57/57 [==============================] - 61s 1s/step - loss: 1.0850 - accuracy: 0.5083 - val_loss: 0.8456 - val_accuracy: 0.5575\n",
      "Epoch 3/30\n",
      "57/57 [==============================] - ETA: 0s - loss: 0.8858 - accuracy: 0.6529WARNING:tensorflow:Can save best model only with val_acc available, skipping.\n",
      "57/57 [==============================] - 61s 1s/step - loss: 0.8858 - accuracy: 0.6529 - val_loss: 0.6863 - val_accuracy: 0.6460\n",
      "Epoch 4/30\n",
      "57/57 [==============================] - ETA: 0s - loss: 0.7129 - accuracy: 0.6819WARNING:tensorflow:Can save best model only with val_acc available, skipping.\n",
      "57/57 [==============================] - 67s 1s/step - loss: 0.7129 - accuracy: 0.6819 - val_loss: 0.7328 - val_accuracy: 0.6991\n",
      "Epoch 5/30\n",
      "57/57 [==============================] - ETA: 0s - loss: 0.7763 - accuracy: 0.6774WARNING:tensorflow:Can save best model only with val_acc available, skipping.\n",
      "57/57 [==============================] - 67s 1s/step - loss: 0.7763 - accuracy: 0.6774 - val_loss: 0.5152 - val_accuracy: 0.7611\n",
      "Epoch 6/30\n",
      "57/57 [==============================] - ETA: 0s - loss: 0.6890 - accuracy: 0.6830WARNING:tensorflow:Can save best model only with val_acc available, skipping.\n",
      "57/57 [==============================] - 72s 1s/step - loss: 0.6890 - accuracy: 0.6830 - val_loss: 0.5466 - val_accuracy: 0.7389\n",
      "Epoch 7/30\n",
      "57/57 [==============================] - ETA: 0s - loss: 0.5849 - accuracy: 0.7119WARNING:tensorflow:Can save best model only with val_acc available, skipping.\n",
      "57/57 [==============================] - 69s 1s/step - loss: 0.5849 - accuracy: 0.7119 - val_loss: 0.4884 - val_accuracy: 0.7345\n",
      "Epoch 8/30\n",
      "57/57 [==============================] - ETA: 0s - loss: 0.5802 - accuracy: 0.7219WARNING:tensorflow:Can save best model only with val_acc available, skipping.\n",
      "57/57 [==============================] - 66s 1s/step - loss: 0.5802 - accuracy: 0.7219 - val_loss: 0.4932 - val_accuracy: 0.7965\n",
      "Epoch 9/30\n",
      "57/57 [==============================] - ETA: 0s - loss: 0.5871 - accuracy: 0.7208WARNING:tensorflow:Can save best model only with val_acc available, skipping.\n",
      "57/57 [==============================] - 61s 1s/step - loss: 0.5871 - accuracy: 0.7208 - val_loss: 0.4858 - val_accuracy: 0.7655\n",
      "Epoch 10/30\n",
      "57/57 [==============================] - ETA: 0s - loss: 0.5751 - accuracy: 0.7308WARNING:tensorflow:Can save best model only with val_acc available, skipping.\n",
      "57/57 [==============================] - 60s 1s/step - loss: 0.5751 - accuracy: 0.7308 - val_loss: 0.5146 - val_accuracy: 0.7566\n",
      "Epoch 11/30\n",
      "57/57 [==============================] - ETA: 0s - loss: 0.5694 - accuracy: 0.7564WARNING:tensorflow:Can save best model only with val_acc available, skipping.\n",
      "57/57 [==============================] - 61s 1s/step - loss: 0.5694 - accuracy: 0.7564 - val_loss: 0.4843 - val_accuracy: 0.8142\n",
      "Epoch 12/30\n",
      "57/57 [==============================] - ETA: 0s - loss: 0.5317 - accuracy: 0.7753WARNING:tensorflow:Can save best model only with val_acc available, skipping.\n",
      "57/57 [==============================] - 66s 1s/step - loss: 0.5317 - accuracy: 0.7753 - val_loss: 0.4878 - val_accuracy: 0.7832\n",
      "Epoch 13/30\n",
      "57/57 [==============================] - ETA: 0s - loss: 0.5946 - accuracy: 0.7519WARNING:tensorflow:Can save best model only with val_acc available, skipping.\n",
      "57/57 [==============================] - 63s 1s/step - loss: 0.5946 - accuracy: 0.7519 - val_loss: 0.5664 - val_accuracy: 0.7434\n",
      "Epoch 14/30\n",
      "57/57 [==============================] - ETA: 0s - loss: 0.5646 - accuracy: 0.7430WARNING:tensorflow:Can save best model only with val_acc available, skipping.\n",
      "57/57 [==============================] - 62s 1s/step - loss: 0.5646 - accuracy: 0.7430 - val_loss: 0.4556 - val_accuracy: 0.8097\n",
      "Epoch 15/30\n",
      "57/57 [==============================] - ETA: 0s - loss: 0.5691 - accuracy: 0.7519WARNING:tensorflow:Can save best model only with val_acc available, skipping.\n",
      "57/57 [==============================] - 71s 1s/step - loss: 0.5691 - accuracy: 0.7519 - val_loss: 0.5356 - val_accuracy: 0.7788\n",
      "Epoch 16/30\n",
      "57/57 [==============================] - ETA: 0s - loss: 0.5435 - accuracy: 0.7875WARNING:tensorflow:Can save best model only with val_acc available, skipping.\n",
      "57/57 [==============================] - 68s 1s/step - loss: 0.5435 - accuracy: 0.7875 - val_loss: 0.4661 - val_accuracy: 0.8319\n",
      "Epoch 17/30\n",
      "57/57 [==============================] - ETA: 0s - loss: 0.5319 - accuracy: 0.7831WARNING:tensorflow:Can save best model only with val_acc available, skipping.\n",
      "57/57 [==============================] - 62s 1s/step - loss: 0.5319 - accuracy: 0.7831 - val_loss: 0.5512 - val_accuracy: 0.7522\n",
      "Epoch 18/30\n",
      "57/57 [==============================] - ETA: 0s - loss: 0.5143 - accuracy: 0.7820WARNING:tensorflow:Can save best model only with val_acc available, skipping.\n",
      "57/57 [==============================] - 62s 1s/step - loss: 0.5143 - accuracy: 0.7820 - val_loss: 0.3784 - val_accuracy: 0.8673\n",
      "Epoch 19/30\n",
      "57/57 [==============================] - ETA: 0s - loss: 0.5341 - accuracy: 0.7664WARNING:tensorflow:Can save best model only with val_acc available, skipping.\n",
      "57/57 [==============================] - 66s 1s/step - loss: 0.5341 - accuracy: 0.7664 - val_loss: 0.6306 - val_accuracy: 0.7301\n",
      "Epoch 20/30\n",
      "57/57 [==============================] - ETA: 0s - loss: 0.6046 - accuracy: 0.7319WARNING:tensorflow:Can save best model only with val_acc available, skipping.\n",
      "57/57 [==============================] - 66s 1s/step - loss: 0.6046 - accuracy: 0.7319 - val_loss: 0.4982 - val_accuracy: 0.7699\n",
      "Epoch 21/30\n",
      "57/57 [==============================] - ETA: 0s - loss: 0.5634 - accuracy: 0.7341WARNING:tensorflow:Can save best model only with val_acc available, skipping.\n",
      "57/57 [==============================] - 65s 1s/step - loss: 0.5634 - accuracy: 0.7341 - val_loss: 0.4709 - val_accuracy: 0.8274\n",
      "Epoch 22/30\n",
      "57/57 [==============================] - ETA: 0s - loss: 0.5703 - accuracy: 0.7519WARNING:tensorflow:Can save best model only with val_acc available, skipping.\n",
      "57/57 [==============================] - 63s 1s/step - loss: 0.5703 - accuracy: 0.7519 - val_loss: 0.5275 - val_accuracy: 0.8053\n",
      "Epoch 23/30\n",
      "57/57 [==============================] - ETA: 0s - loss: 0.6193 - accuracy: 0.7442WARNING:tensorflow:Can save best model only with val_acc available, skipping.\n",
      "57/57 [==============================] - 63s 1s/step - loss: 0.6193 - accuracy: 0.7442 - val_loss: 0.5564 - val_accuracy: 0.8097\n",
      "Epoch 24/30\n",
      "57/57 [==============================] - ETA: 0s - loss: 0.5263 - accuracy: 0.7875WARNING:tensorflow:Can save best model only with val_acc available, skipping.\n",
      "57/57 [==============================] - 67s 1s/step - loss: 0.5263 - accuracy: 0.7875 - val_loss: 0.4188 - val_accuracy: 0.8717\n",
      "Epoch 25/30\n",
      "57/57 [==============================] - ETA: 0s - loss: 0.4454 - accuracy: 0.8287WARNING:tensorflow:Can save best model only with val_acc available, skipping.\n",
      "57/57 [==============================] - 64s 1s/step - loss: 0.4454 - accuracy: 0.8287 - val_loss: 0.3861 - val_accuracy: 0.8584\n",
      "Epoch 26/30\n",
      "57/57 [==============================] - ETA: 0s - loss: 0.4433 - accuracy: 0.8220WARNING:tensorflow:Can save best model only with val_acc available, skipping.\n",
      "57/57 [==============================] - 65s 1s/step - loss: 0.4433 - accuracy: 0.8220 - val_loss: 0.3728 - val_accuracy: 0.8717\n",
      "Epoch 27/30\n",
      "57/57 [==============================] - ETA: 0s - loss: 0.4624 - accuracy: 0.8187WARNING:tensorflow:Can save best model only with val_acc available, skipping.\n",
      "57/57 [==============================] - 63s 1s/step - loss: 0.4624 - accuracy: 0.8187 - val_loss: 0.3404 - val_accuracy: 0.8850\n",
      "Epoch 28/30\n",
      "57/57 [==============================] - ETA: 0s - loss: 0.4514 - accuracy: 0.8331WARNING:tensorflow:Can save best model only with val_acc available, skipping.\n",
      "57/57 [==============================] - 67s 1s/step - loss: 0.4514 - accuracy: 0.8331 - val_loss: 0.4065 - val_accuracy: 0.8673\n",
      "Epoch 29/30\n",
      "57/57 [==============================] - ETA: 0s - loss: 0.4985 - accuracy: 0.8109WARNING:tensorflow:Can save best model only with val_acc available, skipping.\n",
      "57/57 [==============================] - 62s 1s/step - loss: 0.4985 - accuracy: 0.8109 - val_loss: 0.3913 - val_accuracy: 0.8805\n",
      "Epoch 30/30\n",
      "57/57 [==============================] - ETA: 0s - loss: 0.4773 - accuracy: 0.8154WARNING:tensorflow:Can save best model only with val_acc available, skipping.\n",
      "57/57 [==============================] - 59s 1s/step - loss: 0.4773 - accuracy: 0.8154 - val_loss: 0.4232 - val_accuracy: 0.8584\n"
     ]
    }
   ],
   "source": [
    "history = model.fit_generator(trainGenerator,\n",
    "                             epochs=30,\n",
    "                             verbose=1,\n",
    "                             validation_data=testGenerator,\n",
    "                             callbacks = [bestModel])"
   ]
  },
  {
   "cell_type": "code",
   "execution_count": 16,
   "metadata": {},
   "outputs": [
    {
     "data": {
      "image/png": "[encoded data removed]",
      "text/plain": [
       "<Figure size 1008x504 with 1 Axes>"
      ]
     },
     "metadata": {
      "needs_background": "light"
     },
     "output_type": "display_data"
    }
   ],
   "source": [
    "import matplotlib.pyplot as plt\n",
    "\n",
    "acc = history.history['accuracy']\n",
    "testAcc = history.history['val_accuracy']\n",
    "loss = history.history['loss']\n",
    "testLoss = history.history['val_loss']\n",
    "\n",
    "epochs = range(len(acc))\n",
    "\n",
    "fig = plt.figure(figsize=(14,7))\n",
    "plt.plot(epochs, acc, 'r', label='Training Accuracy')\n",
    "plt.plot(epochs, testAcc, 'b', label='Validation Accuracy')\n",
    "plt.xlabel('Epochs')\n",
    "plt.ylabel('Accuracy')\n",
    "plt.title('Training and Testing Accuracy')\n",
    "plt.legend(loc='lower right')\n",
    "plt.show()\n",
    "#If red line stays high and blue line stays low, its a sign of overfitting"
   ]
  },
  {
   "cell_type": "code",
   "execution_count": 17,
   "metadata": {},
   "outputs": [
    {
     "data": {
      "text/plain": [
       "<matplotlib.legend.Legend at 0x7f1430e2e9d0>"
      ]
     },
     "execution_count": 17,
     "metadata": {},
     "output_type": "execute_result"
    },
    {
     "data": {
      "image/png": "[encoded data removed]",
      "text/plain": [
       "<Figure size 1008x504 with 1 Axes>"
      ]
     },
     "metadata": {
      "needs_background": "light"
     },
     "output_type": "display_data"
    }
   ],
   "source": [
    "fig = plt.figure(figsize=(14,7))\n",
    "plt.plot(epochs, loss, 'r', label='Training Loss')\n",
    "plt.plot(epochs, testLoss, 'b', label='Validation Loss')\n",
    "plt.xlabel('Epochs')\n",
    "plt.ylabel('Loss')\n",
    "plt.title('Training and Testing Loss')\n",
    "plt.legend(loc='upper right')\n"
   ]
  },
  {
   "cell_type": "code",
   "execution_count": 20,
   "metadata": {},
   "outputs": [],
   "source": [
    "import pandas as pd\n",
    "import numpy as np\n",
    "from tensorflow.keras.preprocessing.image import load_img, img_to_array\n",
    "\n",
    "def preprocessImage(path):\n",
    "    img = load_img(path, target_size=(imageHeight, imageWidth))\n",
    "    arr = img_to_array(img)\n",
    "    arr = np.expand_dims(arr, axis=0)\n",
    "    arr /= 255\n",
    "    return arr"
   ]
  },
  {
   "cell_type": "code",
   "execution_count": 25,
   "metadata": {},
   "outputs": [
    {
     "name": "stdout",
     "output_type": "stream",
     "text": [
      "1/1 [==============================] - 0s 790us/step\n",
      "Sunrise\n"
     ]
    },
    {
     "name": "stderr",
     "output_type": "stream",
     "text": [
      "/home/siddhant/anaconda3/lib/python3.7/site-packages/ipykernel_launcher.py:8: FutureWarning: elementwise comparison failed; returning scalar instead, but in the future will perform elementwise comparison\n",
      "  \n"
     ]
    }
   ],
   "source": [
    "testProcessedImage = preprocessImage(os.path.join(dataDir, 'test.jpg'))\n",
    "answer = model.predict(testProcessedImage, batch_size=1, verbose=1)\n",
    "answer = np.argmax(answer, axis=1)\n",
    "if answer == 0:\n",
    "    print('Cloudy')\n",
    "elif answer == 1:\n",
    "    print('Rain')\n",
    "elif answer == '2':\n",
    "    print('Shine')\n",
    "else:\n",
    "    print('Sunrise')"
   ]
  },
  {
   "cell_type": "code",
   "execution_count": null,
   "metadata": {},
   "outputs": [],
   "source": []
  }
 ],
 "metadata": {
  "kernelspec": {
   "display_name": "Python 3",
   "language": "python",
   "name": "python3"
  },
  "language_info": {
   "codemirror_mode": {
    "name": "ipython",
    "version": 3
   },
   "file_extension": ".py",
   "mimetype": "text/x-python",
   "name": "python",
   "nbconvert_exporter": "python",
   "pygments_lexer": "ipython3",
   "version": "3.7.6"
  }
 },
 "nbformat": 4,
 "nbformat_minor": 4
}
